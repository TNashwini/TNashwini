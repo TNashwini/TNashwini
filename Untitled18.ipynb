{
  "nbformat": 4,
  "nbformat_minor": 0,
  "metadata": {
    "colab": {
      "provenance": [],
      "authorship_tag": "ABX9TyOJFhnYDi9cZ0Rj/+fCH6OA",
      "include_colab_link": true
    },
    "kernelspec": {
      "name": "python3",
      "display_name": "Python 3"
    },
    "language_info": {
      "name": "python"
    }
  },
  "cells": [
    {
      "cell_type": "markdown",
      "metadata": {
        "id": "view-in-github",
        "colab_type": "text"
      },
      "source": [
        "<a href=\"https://colab.research.google.com/github/TNashwini/TNashwini/blob/mainmaster/Untitled18.ipynb\" target=\"_parent\"><img src=\"https://colab.research.google.com/assets/colab-badge.svg\" alt=\"Open In Colab\"/></a>"
      ]
    },
    {
      "cell_type": "code",
      "source": [
        "import numpy as np\n",
        "import random\n",
        "\n",
        "def pseudoinverse(X):\n",
        "  return np.linalg.pinv(X)\n",
        "\n",
        "\n",
        "# Define a function to generate the X matrix and y vector\n",
        "def create_X(n, m):\n",
        "    X = np.random.normal(0, 1, (n, m))\n",
        "    e = np.random.normal(0, 1, n)\n",
        "    y = 2 * X[:, 0] + X[:, 1] + e\n",
        "    return X, y\n",
        "\n",
        "# Define a function to calculate the β vector using the pseudoinverse\n",
        "def calculate_beta(X, y):\n",
        "    XT = X.T\n",
        "    XTX_pinv = np.linalg.pinv(XT @ X)\n",
        "    XTy = XT @ y\n",
        "    return XTX_pinv @ XTy\n",
        "\n",
        "def repeat(n, m, repeats):\n",
        "    beta_vectors = [calculate_beta(*create_X(n, m)) for _ in range(repeats)]\n",
        "    #return beta_vectors\n",
        "    #beta_vectors = []\n",
        "    #for _ in range(repeats):\n",
        "        #X, y = generate_X_and_y(n, m)\n",
        "     #   X = np.random.normal(0, 1, (n, m))\n",
        "      #  y = 2 * X[:, 0] + X[:, 1] + np.random.normal(0, 1, n)\n",
        "       # beta = calculate_beta(X, y)\n",
        "        #beta_vectors.append(beta)\n",
        "    return beta_vectors\n",
        "\n",
        "# Define the size of the X matrix and the number of repetitions\n",
        "n = 50\n",
        "m = 5\n",
        "repeats = 10\n",
        "beta_vectors = repeat(n, m, repeats)\n",
        "\n",
        "# Stack the β vectors to create a (10 × m) matrix\n",
        "beta_matrix = np.array(beta_vectors)\n",
        "\n",
        "# Calculate the mean and standard deviation of each column of the matrix\n",
        "mean_beta = np.mean(beta_vectors, axis=0)\n",
        "std_beta = np.std(beta_vectors, axis=0)\n",
        "\n",
        "print(\"Mean of β vectors:\")\n",
        "print(mean_beta)\n",
        "\n",
        "print(\"Standard deviation of β vectors:\")\n",
        "print(std_beta)\n",
        "\n"
      ],
      "metadata": {
        "colab": {
          "base_uri": "https://localhost:8080/"
        },
        "id": "hWGyE_JhfOby",
        "outputId": "c83a5a7b-e095-447f-bdb0-b4f7f2fdbec9"
      },
      "execution_count": 26,
      "outputs": [
        {
          "output_type": "stream",
          "name": "stdout",
          "text": [
            "Mean of β vectors:\n",
            "[2.04736 1.0112  0.00254 0.02687 0.01717]\n",
            "Standard deviation of β vectors:\n",
            "[0.15731 0.15576 0.15472 0.17038 0.15336]\n"
          ]
        }
      ]
    },
    {
      "cell_type": "code",
      "source": [
        "import numpy as np\n",
        "import random\n",
        "\n",
        "def pseudoinverse(X):\n",
        "  return np.linalg.pinv(X)\n",
        "\n",
        "# Define a function to generate the X matrix and y vector\n",
        "def create_X(n, m):\n",
        "    X = np.random.normal(0, 1, (n, m))\n",
        "    e = np.random.normal(0, 1, n)\n",
        "    y = 2 * X[:, 0] + X[:, 1] + e\n",
        "    return X, y\n",
        "\n",
        "# Define a function to calculate the β vector using the pseudoinverse\n",
        "def calculate_beta(X, y):\n",
        "    XT = X.T\n",
        "    XTX_pinv = np.linalg.pinv(XT @ X)\n",
        "    XTy = XT @ y\n",
        "    return XTX_pinv @ XTy\n",
        "\n",
        "# Get the values of n, m, and repeats from the user\n",
        "n = int(input(\"Enter the value of n: \"))\n",
        "m = int(input(\"Enter the value of m: \"))\n",
        "repeats = int(input(\"Enter the number of repetitions: \"))\n",
        "\n",
        "def repeat(n, m, repeats):\n",
        "    beta_vectors = []\n",
        "    for _ in range(repeats):\n",
        "        X = np.random.normal(0, 1, (n, m))\n",
        "        y = 2 * X[:, 0] + X[:, 1] + np.random.normal(0, 1, n)\n",
        "        beta = calculate_beta(X, y)\n",
        "        beta_vectors.append(beta)\n",
        "    return beta_vectors\n",
        "\n",
        "beta_vectors = repeat(n, m, repeats)\n",
        "\n",
        "# Stack the β vectors to create a (repeats × m) matrix\n",
        "beta_matrix = np.array(beta_vectors)\n",
        "\n",
        "# Calculate the mean and standard deviation of each column of the matrix\n",
        "mean_beta = np.mean(beta_vectors, axis=0)\n",
        "std_beta = np.std(beta_vectors, axis=0)\n",
        "\n",
        "print(\"Mean of β vectors:\")\n",
        "print(mean_beta)\n",
        "\n",
        "print(\"Standard deviation of β vectors:\")\n",
        "print(std_beta)"
      ],
      "metadata": {
        "colab": {
          "base_uri": "https://localhost:8080/"
        },
        "id": "tUIF9U7TRiEP",
        "outputId": "6df080b0-9af9-48df-dc65-81211a64dac1"
      },
      "execution_count": 24,
      "outputs": [
        {
          "output_type": "stream",
          "name": "stdout",
          "text": [
            "Enter the value of n: 30\n",
            "Enter the value of m: 3\n",
            "Enter the number of repetitions: 10\n",
            "Mean of β vectors:\n",
            "[2.03266e+00 9.83941e-01 1.58575e-03]\n",
            "Standard deviation of β vectors:\n",
            "[0.1784  0.21379 0.26665]\n"
          ]
        }
      ]
    }
  ]
}