{
  "nbformat": 4,
  "nbformat_minor": 0,
  "metadata": {
    "colab": {
      "provenance": [],
      "authorship_tag": "ABX9TyMiOGUX9XpsYMQiSIVDZo+C",
      "include_colab_link": true
    },
    "kernelspec": {
      "name": "python3",
      "display_name": "Python 3"
    },
    "language_info": {
      "name": "python"
    }
  },
  "cells": [
    {
      "cell_type": "markdown",
      "metadata": {
        "id": "view-in-github",
        "colab_type": "text"
      },
      "source": [
        "<a href=\"https://colab.research.google.com/github/TNashwini/TNashwini/blob/mainmaster/Untitled2.ipynb\" target=\"_parent\"><img src=\"https://colab.research.google.com/assets/colab-badge.svg\" alt=\"Open In Colab\"/></a>"
      ]
    },
    {
      "cell_type": "code",
      "execution_count": 9,
      "metadata": {
        "colab": {
          "base_uri": "https://localhost:8080/"
        },
        "id": "TUmI35kEaVOq",
        "outputId": "f0aa2930-d56c-4c48-f54f-d8546878c420"
      },
      "outputs": [
        {
          "output_type": "stream",
          "name": "stdout",
          "text": [
            "array_length: python_array = 7, numpy_array = 7\n"
          ]
        }
      ],
      "source": [
        "import numpy as np\n",
        "import sys\n",
        "python_list = [1,2,3,4,5,6,7]\n",
        "numpy_array = np.array([1,2,3,4,5,6,7])\n",
        "print(\n",
        "    f\"array_length: python_array = {len(python_list)}, numpy_array = {len(numpy_array)}\"\n",
        ")"
      ]
    },
    {
      "cell_type": "code",
      "source": [
        "print(\n",
        "    f\"size of each element in list in bytes: {sys.getsizeof(1)}\"\n",
        ")"
      ],
      "metadata": {
        "colab": {
          "base_uri": "https://localhost:8080/"
        },
        "id": "qxaFrTr9ecIX",
        "outputId": "fd4fa3d5-5831-492a-c4a0-70bd23cec354"
      },
      "execution_count": 10,
      "outputs": [
        {
          "output_type": "stream",
          "name": "stdout",
          "text": [
            "size of each element in list in bytes: 28\n"
          ]
        }
      ]
    },
    {
      "cell_type": "code",
      "source": [
        "print(f\"size of python_array in bytes: {sys.getsizeof(1)*len(python_list)}\")"
      ],
      "metadata": {
        "colab": {
          "base_uri": "https://localhost:8080/"
        },
        "id": "4j0Mcj8WfLSA",
        "outputId": "3f5b667d-a748-4420-f1c9-2f0631174852"
      },
      "execution_count": 16,
      "outputs": [
        {
          "output_type": "stream",
          "name": "stdout",
          "text": [
            "size of python_array in bytes: 196\n"
          ]
        }
      ]
    },
    {
      "cell_type": "code",
      "source": [
        "import numpy as np\n",
        "import sys\n",
        "python_array = [1.01,2.01,3.01,4.01,5.01]\n",
        "numpy_array = np.array([1.01,2.01,3.01,4.01,5.01])\n",
        "print(f\"array lengths: python_array = {len(python_array)}, numpy_array = {len(numpy_array)}\")"
      ],
      "metadata": {
        "colab": {
          "base_uri": "https://localhost:8080/"
        },
        "id": "DezzPSrBe_vf",
        "outputId": "089353cc-b6e2-4b5e-eb47-4afafa0b91d8"
      },
      "execution_count": 6,
      "outputs": [
        {
          "output_type": "stream",
          "name": "stdout",
          "text": [
            "array lengths: python_array = 5, numpy_array = 5\n"
          ]
        }
      ]
    },
    {
      "cell_type": "code",
      "source": [
        "print(\n",
        "    f\"size of each element of list in bytes: {sys.getsizeof(1)}\")\n",
        "\n",
        "print(\n",
        "    f\"size of python_array in bytes: {sys.getsizeof(1)*len(python_array)}\")"
      ],
      "metadata": {
        "colab": {
          "base_uri": "https://localhost:8080/"
        },
        "id": "pjcH9iSJhJF2",
        "outputId": "8828928c-5f17-4e91-82df-0c3fb28ff9fe"
      },
      "execution_count": 17,
      "outputs": [
        {
          "output_type": "stream",
          "name": "stdout",
          "text": [
            "size of each element of list in bytes: 28\n",
            "size of python_array in bytes: 140\n"
          ]
        }
      ]
    },
    {
      "cell_type": "code",
      "source": [
        "python_list = [1,\"hello\",2.0,\"world\",False]\n",
        "python_list"
      ],
      "metadata": {
        "colab": {
          "base_uri": "https://localhost:8080/"
        },
        "id": "KqJ79G_qa_zy",
        "outputId": "25b7a8cd-483f-4fe1-d505-d65cca3dd05b"
      },
      "execution_count": 1,
      "outputs": [
        {
          "output_type": "execute_result",
          "data": {
            "text/plain": [
              "[1, 'hello', 2.0, 'world', False]"
            ]
          },
          "metadata": {},
          "execution_count": 1
        }
      ]
    },
    {
      "cell_type": "code",
      "source": [
        "print(f\"size of each elment of numpy array in bytes :{numpy_array.itemsize}\")\n",
        "print(f\"size of  numpy array in bytes: {numpy_array.itemsize * numpy_array.size}\")"
      ],
      "metadata": {
        "colab": {
          "base_uri": "https://localhost:8080/"
        },
        "id": "kn7v1c-tmA5Q",
        "outputId": "c2577941-12b3-4140-ff68-f7706dde0fd6"
      },
      "execution_count": 18,
      "outputs": [
        {
          "output_type": "stream",
          "name": "stdout",
          "text": [
            "size of each elment of numpy array in bytes :8\n",
            "size of  numpy array in bytes: 40\n"
          ]
        }
      ]
    },
    {
      "cell_type": "code",
      "source": [
        "size = 10**6\n",
        "python_list_1 = range(size)\n",
        "python_list_2 = range(size)\n",
        "numpy_array_1 = np.arange(size)\n",
        "numpy_array_2 = np.arange(size)"
      ],
      "metadata": {
        "id": "qmj1yC1UnLOK"
      },
      "execution_count": 20,
      "outputs": []
    },
    {
      "cell_type": "code",
      "source": [
        "import time\n",
        "initialTime = time.time()\n",
        "res_python_list = [(a*b) for a,b in zip(python_list_1,python_list_2)]\n",
        "print(\n",
        "    \"time taken list to perform multiplication :\",\n",
        "      (time.time() -initialTime),\n",
        "      \"seconds\",\n",
        ")"
      ],
      "metadata": {
        "colab": {
          "base_uri": "https://localhost:8080/"
        },
        "id": "D3p5MMnQpBwg",
        "outputId": "49da7b99-bddd-4d29-a337-497efb77621e"
      },
      "execution_count": 26,
      "outputs": [
        {
          "output_type": "stream",
          "name": "stdout",
          "text": [
            "time taken list to perform multiplication : 0.1328752040863037 seconds\n"
          ]
        }
      ]
    },
    {
      "cell_type": "code",
      "source": [
        "%%timeit\n",
        "res_python_list = [(a*b) for a,b in zip(python_list_1,python_list_2)]"
      ],
      "metadata": {
        "colab": {
          "base_uri": "https://localhost:8080/"
        },
        "id": "I9w2KvbisMIA",
        "outputId": "f5bd09ec-b62c-44d1-a9d5-f5f8166d2e78"
      },
      "execution_count": 27,
      "outputs": [
        {
          "output_type": "stream",
          "name": "stdout",
          "text": [
            "143 ms ± 33.2 ms per loop (mean ± std. dev. of 7 runs, 10 loops each)\n"
          ]
        }
      ]
    },
    {
      "cell_type": "code",
      "source": [
        "%%timeit\n",
        "numpy_array = numpy_array_1*numpy_array_2"
      ],
      "metadata": {
        "colab": {
          "base_uri": "https://localhost:8080/"
        },
        "id": "jJzzTxHntDfG",
        "outputId": "01a62f30-e22f-4288-c0e4-4413887b9d20"
      },
      "execution_count": 28,
      "outputs": [
        {
          "output_type": "stream",
          "name": "stdout",
          "text": [
            "1.87 ms ± 304 µs per loop (mean ± std. dev. of 7 runs, 100 loops each)\n"
          ]
        }
      ]
    },
    {
      "cell_type": "code",
      "source": [
        "p_list = [1,3,5,7,9]\n",
        "n_array = np.array(p_list)\n",
        "n_array"
      ],
      "metadata": {
        "colab": {
          "base_uri": "https://localhost:8080/"
        },
        "id": "VyF0ThYGtbNb",
        "outputId": "f870a7dd-f2a6-49c1-d7b4-cd9be3d66604"
      },
      "execution_count": 32,
      "outputs": [
        {
          "output_type": "execute_result",
          "data": {
            "text/plain": [
              "array([1, 3, 5, 7, 9])"
            ]
          },
          "metadata": {},
          "execution_count": 32
        }
      ]
    },
    {
      "cell_type": "code",
      "source": [
        "array_2d = np.array([[1,2,3,4],[5,6,7,8],[9,10,11,12]])\n",
        "array_2d"
      ],
      "metadata": {
        "colab": {
          "base_uri": "https://localhost:8080/"
        },
        "id": "C9aqT58MuALg",
        "outputId": "7f510d18-e78b-4ba7-dfe4-771150f4f69d"
      },
      "execution_count": 34,
      "outputs": [
        {
          "output_type": "execute_result",
          "data": {
            "text/plain": [
              "array([[ 1,  2,  3,  4],\n",
              "       [ 5,  6,  7,  8],\n",
              "       [ 9, 10, 11, 12]])"
            ]
          },
          "metadata": {},
          "execution_count": 34
        }
      ]
    },
    {
      "cell_type": "code",
      "source": [
        "array_mod = array_2d.reshape(6,2)\n",
        "array_mod"
      ],
      "metadata": {
        "colab": {
          "base_uri": "https://localhost:8080/"
        },
        "id": "GUaq54_lvJb0",
        "outputId": "ac7f79ed-bdb9-4dcf-e121-c08ba9cc2425"
      },
      "execution_count": 38,
      "outputs": [
        {
          "output_type": "execute_result",
          "data": {
            "text/plain": [
              "array([[ 1,  2],\n",
              "       [ 3,  4],\n",
              "       [ 5,  6],\n",
              "       [ 7,  8],\n",
              "       [ 9, 10],\n",
              "       [11, 12]])"
            ]
          },
          "metadata": {},
          "execution_count": 38
        }
      ]
    },
    {
      "cell_type": "code",
      "source": [
        "array_mod.ravel()"
      ],
      "metadata": {
        "colab": {
          "base_uri": "https://localhost:8080/"
        },
        "id": "mHGbRY6SvprG",
        "outputId": "5922f428-842e-4c4c-b1e4-12064d9e507f"
      },
      "execution_count": 40,
      "outputs": [
        {
          "output_type": "execute_result",
          "data": {
            "text/plain": [
              "array([ 1,  2,  3,  4,  5,  6,  7,  8,  9, 10, 11, 12])"
            ]
          },
          "metadata": {},
          "execution_count": 40
        }
      ]
    },
    {
      "cell_type": "code",
      "source": [
        "np.arange(1,15)"
      ],
      "metadata": {
        "colab": {
          "base_uri": "https://localhost:8080/"
        },
        "id": "oMjAO3cTwGQp",
        "outputId": "49561d97-e4f4-4e45-8dbc-e76b57b7c213"
      },
      "execution_count": 42,
      "outputs": [
        {
          "output_type": "execute_result",
          "data": {
            "text/plain": [
              "array([ 1,  2,  3,  4,  5,  6,  7,  8,  9, 10, 11, 12, 13, 14])"
            ]
          },
          "metadata": {},
          "execution_count": 42
        }
      ]
    },
    {
      "cell_type": "code",
      "source": [
        "np.arange(1,15,2)"
      ],
      "metadata": {
        "colab": {
          "base_uri": "https://localhost:8080/"
        },
        "id": "YEEE7m0FwXTi",
        "outputId": "826ff0ac-f160-445a-d748-f858926f01f6"
      },
      "execution_count": 43,
      "outputs": [
        {
          "output_type": "execute_result",
          "data": {
            "text/plain": [
              "array([ 1,  3,  5,  7,  9, 11, 13])"
            ]
          },
          "metadata": {},
          "execution_count": 43
        }
      ]
    },
    {
      "cell_type": "code",
      "source": [
        "np.linspace(0,10,7)"
      ],
      "metadata": {
        "colab": {
          "base_uri": "https://localhost:8080/"
        },
        "id": "IVCgm_LwwjLP",
        "outputId": "d5f463c5-3f0e-44ca-a53c-5f1b2aa249e1"
      },
      "execution_count": 48,
      "outputs": [
        {
          "output_type": "execute_result",
          "data": {
            "text/plain": [
              "array([ 0.        ,  1.66666667,  3.33333333,  5.        ,  6.66666667,\n",
              "        8.33333333, 10.        ])"
            ]
          },
          "metadata": {},
          "execution_count": 48
        }
      ]
    },
    {
      "cell_type": "code",
      "source": [
        "np.zeros(10)"
      ],
      "metadata": {
        "colab": {
          "base_uri": "https://localhost:8080/"
        },
        "id": "y7dYCfuLxC7v",
        "outputId": "4aa23d35-3d1b-4790-8fe2-16194e128e4d"
      },
      "execution_count": 49,
      "outputs": [
        {
          "output_type": "execute_result",
          "data": {
            "text/plain": [
              "array([0., 0., 0., 0., 0., 0., 0., 0., 0., 0.])"
            ]
          },
          "metadata": {},
          "execution_count": 49
        }
      ]
    },
    {
      "cell_type": "code",
      "source": [
        "np.ones(10)"
      ],
      "metadata": {
        "colab": {
          "base_uri": "https://localhost:8080/"
        },
        "id": "zj9ZbYmExKW6",
        "outputId": "acb22c22-8e6b-462a-bd1a-650152341d6f"
      },
      "execution_count": 50,
      "outputs": [
        {
          "output_type": "execute_result",
          "data": {
            "text/plain": [
              "array([1., 1., 1., 1., 1., 1., 1., 1., 1., 1.])"
            ]
          },
          "metadata": {},
          "execution_count": 50
        }
      ]
    },
    {
      "cell_type": "code",
      "source": [
        "np.zeros((2,5))"
      ],
      "metadata": {
        "colab": {
          "base_uri": "https://localhost:8080/"
        },
        "id": "nhQiL6WqxQS0",
        "outputId": "6c0e4991-c100-4b44-e40e-8ce304f3bd51"
      },
      "execution_count": 53,
      "outputs": [
        {
          "output_type": "execute_result",
          "data": {
            "text/plain": [
              "array([[0., 0., 0., 0., 0.],\n",
              "       [0., 0., 0., 0., 0.]])"
            ]
          },
          "metadata": {},
          "execution_count": 53
        }
      ]
    },
    {
      "cell_type": "code",
      "source": [
        "import pandas as pd\n",
        "import numpy as np\n",
        "np.ones((2,5))"
      ],
      "metadata": {
        "colab": {
          "base_uri": "https://localhost:8080/"
        },
        "id": "A9STcqHGxpMF",
        "outputId": "a4c2f3ca-8800-423f-e9bd-7576ad6572e7"
      },
      "execution_count": 60,
      "outputs": [
        {
          "output_type": "execute_result",
          "data": {
            "text/plain": [
              "array([[1., 1., 1., 1., 1.],\n",
              "       [1., 1., 1., 1., 1.]])"
            ]
          },
          "metadata": {},
          "execution_count": 60
        }
      ]
    },
    {
      "cell_type": "code",
      "source": [],
      "metadata": {
        "id": "kWbs1iAOzXMC"
      },
      "execution_count": null,
      "outputs": []
    },
    {
      "cell_type": "code",
      "source": [
        "np.random.rand(2,5)"
      ],
      "metadata": {
        "colab": {
          "base_uri": "https://localhost:8080/"
        },
        "id": "5feJ13lKy78q",
        "outputId": "73ffe761-2641-460f-8aa2-9f6dc158b87b"
      },
      "execution_count": 62,
      "outputs": [
        {
          "output_type": "execute_result",
          "data": {
            "text/plain": [
              "array([[0.50740257, 0.96559589, 0.38860207, 0.53690076, 0.33170353],\n",
              "       [0.1483773 , 0.98848884, 0.28442006, 0.42525513, 0.06260992]])"
            ]
          },
          "metadata": {},
          "execution_count": 62
        }
      ]
    },
    {
      "cell_type": "code",
      "source": [
        "array_list=[1,60]\n",
        "numpy_array_int = array_list[(10,60)]\n",
        "array_1 = np.array(numpy_array_int)\n",
        "array_1"
      ],
      "metadata": {
        "colab": {
          "base_uri": "https://localhost:8080/",
          "height": 228
        },
        "id": "Dpcm4brizYWl",
        "outputId": "a3cdfbc6-0eda-4d4f-ddf9-832b88a30c92"
      },
      "execution_count": 68,
      "outputs": [
        {
          "output_type": "error",
          "ename": "TypeError",
          "evalue": "list indices must be integers or slices, not tuple",
          "traceback": [
            "\u001b[0;31m---------------------------------------------------------------------------\u001b[0m",
            "\u001b[0;31mTypeError\u001b[0m                                 Traceback (most recent call last)",
            "\u001b[0;32m<ipython-input-68-cd0673c2e460>\u001b[0m in \u001b[0;36m<cell line: 2>\u001b[0;34m()\u001b[0m\n\u001b[1;32m      1\u001b[0m \u001b[0marray_list\u001b[0m\u001b[0;34m=\u001b[0m\u001b[0;34m[\u001b[0m\u001b[0;36m1\u001b[0m\u001b[0;34m,\u001b[0m\u001b[0;36m60\u001b[0m\u001b[0;34m]\u001b[0m\u001b[0;34m\u001b[0m\u001b[0;34m\u001b[0m\u001b[0m\n\u001b[0;32m----> 2\u001b[0;31m \u001b[0mnumpy_array_int\u001b[0m \u001b[0;34m=\u001b[0m \u001b[0marray_list\u001b[0m\u001b[0;34m[\u001b[0m\u001b[0;34m(\u001b[0m\u001b[0;36m10\u001b[0m\u001b[0;34m,\u001b[0m\u001b[0;36m60\u001b[0m\u001b[0;34m)\u001b[0m\u001b[0;34m]\u001b[0m\u001b[0;34m\u001b[0m\u001b[0;34m\u001b[0m\u001b[0m\n\u001b[0m\u001b[1;32m      3\u001b[0m \u001b[0marray_1\u001b[0m \u001b[0;34m=\u001b[0m \u001b[0mnp\u001b[0m\u001b[0;34m.\u001b[0m\u001b[0marray\u001b[0m\u001b[0;34m(\u001b[0m\u001b[0mnumpy_array_int\u001b[0m\u001b[0;34m)\u001b[0m\u001b[0;34m\u001b[0m\u001b[0;34m\u001b[0m\u001b[0m\n\u001b[1;32m      4\u001b[0m \u001b[0marray_1\u001b[0m\u001b[0;34m\u001b[0m\u001b[0;34m\u001b[0m\u001b[0m\n",
            "\u001b[0;31mTypeError\u001b[0m: list indices must be integers or slices, not tuple"
          ]
        }
      ]
    },
    {
      "cell_type": "code",
      "source": [],
      "metadata": {
        "id": "aO2YmxIly75d"
      },
      "execution_count": null,
      "outputs": []
    },
    {
      "cell_type": "code",
      "source": [
        "my_list = [1, 2, 3]\n",
        "my_tuple = (0, 1)\n",
        "\n",
        "print(my_list[my_tuple])"
      ],
      "metadata": {
        "colab": {
          "base_uri": "https://localhost:8080/",
          "height": 211
        },
        "id": "fGcTWAyJ1FcO",
        "outputId": "55fd6a65-a243-4750-ef72-dd2c73784c50"
      },
      "execution_count": 69,
      "outputs": [
        {
          "output_type": "error",
          "ename": "TypeError",
          "evalue": "list indices must be integers or slices, not tuple",
          "traceback": [
            "\u001b[0;31m---------------------------------------------------------------------------\u001b[0m",
            "\u001b[0;31mTypeError\u001b[0m                                 Traceback (most recent call last)",
            "\u001b[0;32m<ipython-input-69-817bb98f96b0>\u001b[0m in \u001b[0;36m<cell line: 4>\u001b[0;34m()\u001b[0m\n\u001b[1;32m      2\u001b[0m \u001b[0mmy_tuple\u001b[0m \u001b[0;34m=\u001b[0m \u001b[0;34m(\u001b[0m\u001b[0;36m0\u001b[0m\u001b[0;34m,\u001b[0m \u001b[0;36m1\u001b[0m\u001b[0;34m)\u001b[0m\u001b[0;34m\u001b[0m\u001b[0;34m\u001b[0m\u001b[0m\n\u001b[1;32m      3\u001b[0m \u001b[0;34m\u001b[0m\u001b[0m\n\u001b[0;32m----> 4\u001b[0;31m \u001b[0mprint\u001b[0m\u001b[0;34m(\u001b[0m\u001b[0mmy_list\u001b[0m\u001b[0;34m[\u001b[0m\u001b[0mmy_tuple\u001b[0m\u001b[0;34m]\u001b[0m\u001b[0;34m)\u001b[0m\u001b[0;34m\u001b[0m\u001b[0;34m\u001b[0m\u001b[0m\n\u001b[0m",
            "\u001b[0;31mTypeError\u001b[0m: list indices must be integers or slices, not tuple"
          ]
        }
      ]
    },
    {
      "cell_type": "code",
      "source": [
        "array = np.arange(1,60)\n",
        "array"
      ],
      "metadata": {
        "colab": {
          "base_uri": "https://localhost:8080/"
        },
        "id": "JrxG_lDC1rKX",
        "outputId": "e776f715-4019-4038-bb43-427d06fd97b8"
      },
      "execution_count": 71,
      "outputs": [
        {
          "output_type": "execute_result",
          "data": {
            "text/plain": [
              "array([ 1,  2,  3,  4,  5,  6,  7,  8,  9, 10, 11, 12, 13, 14, 15, 16, 17,\n",
              "       18, 19, 20, 21, 22, 23, 24, 25, 26, 27, 28, 29, 30, 31, 32, 33, 34,\n",
              "       35, 36, 37, 38, 39, 40, 41, 42, 43, 44, 45, 46, 47, 48, 49, 50, 51,\n",
              "       52, 53, 54, 55, 56, 57, 58, 59])"
            ]
          },
          "metadata": {},
          "execution_count": 71
        }
      ]
    },
    {
      "cell_type": "code",
      "source": [
        "array_even = np.arange(1,60,2)\n",
        "array_even"
      ],
      "metadata": {
        "colab": {
          "base_uri": "https://localhost:8080/"
        },
        "id": "Q6wICIOG3VFv",
        "outputId": "9b69506b-d41a-490d-f4ab-7dbb3169bdb6"
      },
      "execution_count": 73,
      "outputs": [
        {
          "output_type": "execute_result",
          "data": {
            "text/plain": [
              "array([ 1,  3,  5,  7,  9, 11, 13, 15, 17, 19, 21, 23, 25, 27, 29, 31, 33,\n",
              "       35, 37, 39, 41, 43, 45, 47, 49, 51, 53, 55, 57, 59])"
            ]
          },
          "metadata": {},
          "execution_count": 73
        }
      ]
    },
    {
      "cell_type": "code",
      "source": [
        "numpy_three_three =np.array([[1,2,3],[4,5,6],[7,8,9]])\n",
        "numpy_three_three"
      ],
      "metadata": {
        "colab": {
          "base_uri": "https://localhost:8080/"
        },
        "id": "jLo1zxh934cZ",
        "outputId": "06d0fff7-6ecb-4238-f0d4-62b400194f5a"
      },
      "execution_count": 74,
      "outputs": [
        {
          "output_type": "execute_result",
          "data": {
            "text/plain": [
              "array([[1, 2, 3],\n",
              "       [4, 5, 6],\n",
              "       [7, 8, 9]])"
            ]
          },
          "metadata": {},
          "execution_count": 74
        }
      ]
    },
    {
      "cell_type": "code",
      "source": [
        "np.arange(1,100)\n",
        "array"
      ],
      "metadata": {
        "colab": {
          "base_uri": "https://localhost:8080/"
        },
        "id": "l4so9PDD40ix",
        "outputId": "7249b49c-67b4-4545-dc00-10573410c2ec"
      },
      "execution_count": 75,
      "outputs": [
        {
          "output_type": "execute_result",
          "data": {
            "text/plain": [
              "array([ 1,  2,  3,  4,  5,  6,  7,  8,  9, 10, 11, 12, 13, 14, 15, 16, 17,\n",
              "       18, 19, 20, 21, 22, 23, 24, 25, 26, 27, 28, 29, 30, 31, 32, 33, 34,\n",
              "       35, 36, 37, 38, 39, 40, 41, 42, 43, 44, 45, 46, 47, 48, 49, 50, 51,\n",
              "       52, 53, 54, 55, 56, 57, 58, 59])"
            ]
          },
          "metadata": {},
          "execution_count": 75
        }
      ]
    },
    {
      "cell_type": "code",
      "source": [
        "np.random.rand(100,1)"
      ],
      "metadata": {
        "colab": {
          "base_uri": "https://localhost:8080/"
        },
        "id": "g0ozbsM05PKH",
        "outputId": "39084110-491d-4546-f15e-297b5671b422"
      },
      "execution_count": 78,
      "outputs": [
        {
          "output_type": "execute_result",
          "data": {
            "text/plain": [
              "array([[0.66797903],\n",
              "       [0.83240673],\n",
              "       [0.05664793],\n",
              "       [0.74797213],\n",
              "       [0.53261256],\n",
              "       [0.47502476],\n",
              "       [0.51952719],\n",
              "       [0.98612393],\n",
              "       [0.02723025],\n",
              "       [0.11618624],\n",
              "       [0.97303033],\n",
              "       [0.08664188],\n",
              "       [0.26806733],\n",
              "       [0.08226225],\n",
              "       [0.91734598],\n",
              "       [0.50689483],\n",
              "       [0.93202116],\n",
              "       [0.12963363],\n",
              "       [0.53414608],\n",
              "       [0.09371139],\n",
              "       [0.19309392],\n",
              "       [0.77149826],\n",
              "       [0.7738182 ],\n",
              "       [0.88332624],\n",
              "       [0.85807955],\n",
              "       [0.54740342],\n",
              "       [0.66458003],\n",
              "       [0.48706545],\n",
              "       [0.17789711],\n",
              "       [0.77382749],\n",
              "       [0.05850332],\n",
              "       [0.37153829],\n",
              "       [0.56577511],\n",
              "       [0.39239055],\n",
              "       [0.15895491],\n",
              "       [0.0790683 ],\n",
              "       [0.56495008],\n",
              "       [0.56281396],\n",
              "       [0.42414737],\n",
              "       [0.9406011 ],\n",
              "       [0.08667727],\n",
              "       [0.06841816],\n",
              "       [0.9827938 ],\n",
              "       [0.54387013],\n",
              "       [0.30304136],\n",
              "       [0.21210055],\n",
              "       [0.6931297 ],\n",
              "       [0.51380179],\n",
              "       [0.82392313],\n",
              "       [0.2718262 ],\n",
              "       [0.13725136],\n",
              "       [0.67384271],\n",
              "       [0.90435317],\n",
              "       [0.33271788],\n",
              "       [0.98373916],\n",
              "       [0.06502603],\n",
              "       [0.18872899],\n",
              "       [0.95359213],\n",
              "       [0.40532949],\n",
              "       [0.96842654],\n",
              "       [0.29009756],\n",
              "       [0.14797677],\n",
              "       [0.35140782],\n",
              "       [0.7248534 ],\n",
              "       [0.54464023],\n",
              "       [0.24223806],\n",
              "       [0.00325106],\n",
              "       [0.8341496 ],\n",
              "       [0.56818724],\n",
              "       [0.71777873],\n",
              "       [0.10740648],\n",
              "       [0.44299563],\n",
              "       [0.29220866],\n",
              "       [0.91928335],\n",
              "       [0.25969045],\n",
              "       [0.87639465],\n",
              "       [0.1818922 ],\n",
              "       [0.93912323],\n",
              "       [0.62299244],\n",
              "       [0.78554152],\n",
              "       [0.72702171],\n",
              "       [0.50915355],\n",
              "       [0.4342701 ],\n",
              "       [0.19346871],\n",
              "       [0.96488248],\n",
              "       [0.93813044],\n",
              "       [0.92782943],\n",
              "       [0.50383894],\n",
              "       [0.81954579],\n",
              "       [0.33174099],\n",
              "       [0.6282584 ],\n",
              "       [0.77661651],\n",
              "       [0.0637463 ],\n",
              "       [0.81757257],\n",
              "       [0.45178469],\n",
              "       [0.45827344],\n",
              "       [0.75952027],\n",
              "       [0.02910313],\n",
              "       [0.24990334],\n",
              "       [0.92617221]])"
            ]
          },
          "metadata": {},
          "execution_count": 78
        }
      ]
    },
    {
      "cell_type": "code",
      "source": [
        "matrix = np.linspace(0.01,1,100, endpoint = True).reshape(10,10)\n",
        "matrix"
      ],
      "metadata": {
        "colab": {
          "base_uri": "https://localhost:8080/"
        },
        "id": "tGipZguz6BIS",
        "outputId": "de6b73d7-8ac3-42ac-ff99-6d586ebc52ad"
      },
      "execution_count": 80,
      "outputs": [
        {
          "output_type": "execute_result",
          "data": {
            "text/plain": [
              "array([[0.01, 0.02, 0.03, 0.04, 0.05, 0.06, 0.07, 0.08, 0.09, 0.1 ],\n",
              "       [0.11, 0.12, 0.13, 0.14, 0.15, 0.16, 0.17, 0.18, 0.19, 0.2 ],\n",
              "       [0.21, 0.22, 0.23, 0.24, 0.25, 0.26, 0.27, 0.28, 0.29, 0.3 ],\n",
              "       [0.31, 0.32, 0.33, 0.34, 0.35, 0.36, 0.37, 0.38, 0.39, 0.4 ],\n",
              "       [0.41, 0.42, 0.43, 0.44, 0.45, 0.46, 0.47, 0.48, 0.49, 0.5 ],\n",
              "       [0.51, 0.52, 0.53, 0.54, 0.55, 0.56, 0.57, 0.58, 0.59, 0.6 ],\n",
              "       [0.61, 0.62, 0.63, 0.64, 0.65, 0.66, 0.67, 0.68, 0.69, 0.7 ],\n",
              "       [0.71, 0.72, 0.73, 0.74, 0.75, 0.76, 0.77, 0.78, 0.79, 0.8 ],\n",
              "       [0.81, 0.82, 0.83, 0.84, 0.85, 0.86, 0.87, 0.88, 0.89, 0.9 ],\n",
              "       [0.91, 0.92, 0.93, 0.94, 0.95, 0.96, 0.97, 0.98, 0.99, 1.  ]])"
            ]
          },
          "metadata": {},
          "execution_count": 80
        }
      ]
    }
  ]
}