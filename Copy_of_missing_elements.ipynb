{
  "nbformat": 4,
  "nbformat_minor": 0,
  "metadata": {
    "colab": {
      "provenance": [],
      "authorship_tag": "ABX9TyN9SFZ6SVoy1kfJDwmdlw/n",
      "include_colab_link": true
    },
    "kernelspec": {
      "name": "python3",
      "display_name": "Python 3"
    },
    "language_info": {
      "name": "python"
    }
  },
  "cells": [
    {
      "cell_type": "markdown",
      "metadata": {
        "id": "view-in-github",
        "colab_type": "text"
      },
      "source": [
        "<a href=\"https://colab.research.google.com/github/TNashwini/TNashwini/blob/mainmaster/Copy_of_missing_elements.ipynb\" target=\"_parent\"><img src=\"https://colab.research.google.com/assets/colab-badge.svg\" alt=\"Open In Colab\"/></a>"
      ]
    },
    {
      "cell_type": "code",
      "source": [
        "import numpy as np\n",
        "def find_missing_elements(S, X):\n",
        "    set_S = set(S)\n",
        "    set_X = set(X)\n",
        "\n",
        "    missing_elements = set_S - set_X\n",
        "    missing_elements = sorted(list(missing_elements))\n",
        "\n",
        "    return list(missing_elements)\n",
        "\n",
        "    S = [e, x, a, m, p, l, e]\n",
        "    X = [x, e, e, m, l ]\n",
        "\n",
        "    if len(missing_elements) > 2:\n",
        "        return None\n",
        "    elif len(missing_elements) == 0:\n",
        "        return None\n",
        "    elif len(missing_elements) == 1:\n",
        "        missing_element = list(missing_elements)[0]\n",
        "        if S.count(missing_element) > 1:\n",
        "            return None\n",
        "        else:\n",
        "            return [missing_elements]\n",
        "    else:\n",
        "        missing_elements_list = list(missing_elements)\n",
        "        if S.count(missing_elements_list[0]) > 1 and S.count(missing_elements_list[1]) > 1:\n",
        "            return None\n",
        "        else:\n",
        "            return missing_elements\n",
        "\n",
        "S = ['e', 'x', 'a', 'm', 'p', 'l', 'e']\n",
        "X = ['x', 'e', 'e', 'm', 'l']\n",
        "\n",
        "\n",
        "\n",
        "missing_elements = find_missing_elements(S, X)\n",
        "print(\"missing_elements of S in X:\", missing_elements)\n"
      ],
      "metadata": {
        "id": "r3qvnaljlicy",
        "outputId": "9914e5f1-efa8-40b1-d0ca-86876bebca14",
        "colab": {
          "base_uri": "https://localhost:8080/"
        }
      },
      "execution_count": 23,
      "outputs": [
        {
          "output_type": "stream",
          "name": "stdout",
          "text": [
            "missing_elements of S in X: ['a', 'p']\n"
          ]
        }
      ]
    }
  ]
}