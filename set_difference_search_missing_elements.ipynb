{
  "nbformat": 4,
  "nbformat_minor": 0,
  "metadata": {
    "colab": {
      "provenance": [],
      "authorship_tag": "ABX9TyMSTMuRxtqh1oJxDpxsxTCK",
      "include_colab_link": true
    },
    "kernelspec": {
      "name": "python3",
      "display_name": "Python 3"
    },
    "language_info": {
      "name": "python"
    }
  },
  "cells": [
    {
      "cell_type": "markdown",
      "metadata": {
        "id": "view-in-github",
        "colab_type": "text"
      },
      "source": [
        "<a href=\"https://colab.research.google.com/github/TNashwini/TNashwini/blob/mainmaster/set_difference_search_missing_elements.ipynb\" target=\"_parent\"><img src=\"https://colab.research.google.com/assets/colab-badge.svg\" alt=\"Open In Colab\"/></a>"
      ]
    },
    {
      "cell_type": "code",
      "execution_count": 7,
      "metadata": {
        "colab": {
          "base_uri": "https://localhost:8080/"
        },
        "id": "m7bbtapASq8J",
        "outputId": "2108885d-3a71-4b1f-9b2b-742473d935e8"
      },
      "outputs": [
        {
          "output_type": "stream",
          "name": "stdout",
          "text": [
            "missing elements(sorted): ['a', 'p']\n",
            "missing_elements of S in X: ['p', 'a']\n"
          ]
        }
      ],
      "source": [
        "import numpy as np\n",
        "def find_missing_elements(S, X):\n",
        "    set_S = set(S)\n",
        "    set_X = set(X)\n",
        "\n",
        "    missing_elements = set_S - set_X\n",
        "\n",
        "    return list(missing_elements)\n",
        "\n",
        "    S = [e, x, a, m, p, l, e]\n",
        "    X = [x, e, e, m, l ]\n",
        "\n",
        "    if len(missing_elements) > 2:\n",
        "        return None\n",
        "    elif len(missing_elements) == 0:\n",
        "        return None\n",
        "    elif len(missing_elements) == 1:\n",
        "        missing_element = list(missing_elements)[0]\n",
        "        if S.count(missing_element) > 1:\n",
        "            return None\n",
        "        else:\n",
        "            return [missing_elements]\n",
        "    else:\n",
        "        missing_elements_list = list(missing_elements)\n",
        "        if S.count(missing_elements_list[0]) > 1 and S.count(missing_elements_list[1]) > 1:\n",
        "            return None\n",
        "        else:\n",
        "            return missing_elements\n",
        "\n",
        "S = ['e', 'x', 'a', 'm', 'p', 'l', 'e']\n",
        "X = ['x', 'e', 'e', 'm', 'l']\n",
        "\n",
        "sorted_missing_elements = sorted(missing_elements)\n",
        "print(\"missing elements(sorted):\", sorted_missing_elements)\n",
        "missing_elements = find_missing_elements(S, X)\n",
        "print(\"missing_elements of S in X:\", missing_elements)\n"
      ]
    }
  ]
}